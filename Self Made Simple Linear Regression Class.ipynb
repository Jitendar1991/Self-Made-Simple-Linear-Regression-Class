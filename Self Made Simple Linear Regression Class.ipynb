{
 "cells": [
  {
   "cell_type": "code",
   "execution_count": 1,
   "id": "a4026876",
   "metadata": {},
   "outputs": [],
   "source": [
    "class MeraLR:\n",
    "    def __init__(self):\n",
    "        self.m = None\n",
    "        self.b = None\n",
    "    def fit(self,x_train,y_train):\n",
    "        num=0\n",
    "        den=0\n",
    "        \n",
    "        for i in range(x_train.shape[0]):\n",
    "            num=num+((x_train[i]-x_train.mean())*(y_train[i]-y_train.mean()))\n",
    "            den=den+((x_train[i]-x_train.mean())*(x_train[i]-x_train.mean()))\n",
    "            \n",
    "        self.m=num/den\n",
    "        self.b=(y_train.mean() - (self.m*(x_train.mean())))\n",
    "        print(self.m)\n",
    "        print(self.b)\n",
    "        \n",
    "            \n",
    "    def predict(self,x_test):\n",
    "        for i in range(x_test.shape[0]):\n",
    "            y_pred=(self.m*(x_test[i])+self.b)\n",
    "            print(y_pred)\n",
    "        \n",
    "       \n",
    "    "
   ]
  },
  {
   "cell_type": "code",
   "execution_count": 2,
   "id": "95f31421",
   "metadata": {},
   "outputs": [],
   "source": [
    "import numpy as np\n",
    "import pandas as pd\n",
    "import matplotlib.pyplot as plt\n",
    "import seaborn as sns\n",
    "%matplotlib inline"
   ]
  },
  {
   "cell_type": "code",
   "execution_count": 3,
   "id": "7e6e4b61",
   "metadata": {},
   "outputs": [
    {
     "name": "stdout",
     "output_type": "stream",
     "text": [
      "D:\\Amazon movie\\slr\n"
     ]
    }
   ],
   "source": [
    "import io\n",
    "%cd \"D:\\Amazon movie\\slr\""
   ]
  },
  {
   "cell_type": "code",
   "execution_count": 4,
   "id": "fd2ceb44",
   "metadata": {},
   "outputs": [],
   "source": [
    "df=pd.read_csv(\"SLR.csv\")"
   ]
  },
  {
   "cell_type": "code",
   "execution_count": 5,
   "id": "25cf19d2",
   "metadata": {},
   "outputs": [
    {
     "data": {
      "text/html": [
       "<div>\n",
       "<style scoped>\n",
       "    .dataframe tbody tr th:only-of-type {\n",
       "        vertical-align: middle;\n",
       "    }\n",
       "\n",
       "    .dataframe tbody tr th {\n",
       "        vertical-align: top;\n",
       "    }\n",
       "\n",
       "    .dataframe thead th {\n",
       "        text-align: right;\n",
       "    }\n",
       "</style>\n",
       "<table border=\"1\" class=\"dataframe\">\n",
       "  <thead>\n",
       "    <tr style=\"text-align: right;\">\n",
       "      <th></th>\n",
       "      <th>X</th>\n",
       "      <th>Y</th>\n",
       "    </tr>\n",
       "  </thead>\n",
       "  <tbody>\n",
       "    <tr>\n",
       "      <th>0</th>\n",
       "      <td>20.000000</td>\n",
       "      <td>88.599998</td>\n",
       "    </tr>\n",
       "    <tr>\n",
       "      <th>1</th>\n",
       "      <td>16.000000</td>\n",
       "      <td>71.599998</td>\n",
       "    </tr>\n",
       "    <tr>\n",
       "      <th>2</th>\n",
       "      <td>19.799999</td>\n",
       "      <td>93.300003</td>\n",
       "    </tr>\n",
       "    <tr>\n",
       "      <th>3</th>\n",
       "      <td>18.400000</td>\n",
       "      <td>84.300003</td>\n",
       "    </tr>\n",
       "    <tr>\n",
       "      <th>4</th>\n",
       "      <td>17.100000</td>\n",
       "      <td>80.599998</td>\n",
       "    </tr>\n",
       "  </tbody>\n",
       "</table>\n",
       "</div>"
      ],
      "text/plain": [
       "           X          Y\n",
       "0  20.000000  88.599998\n",
       "1  16.000000  71.599998\n",
       "2  19.799999  93.300003\n",
       "3  18.400000  84.300003\n",
       "4  17.100000  80.599998"
      ]
     },
     "execution_count": 5,
     "metadata": {},
     "output_type": "execute_result"
    }
   ],
   "source": [
    "df.head()"
   ]
  },
  {
   "cell_type": "code",
   "execution_count": 6,
   "id": "b04ee5ec",
   "metadata": {},
   "outputs": [],
   "source": [
    "X=df.iloc[:,0].values"
   ]
  },
  {
   "cell_type": "code",
   "execution_count": 7,
   "id": "447dc763",
   "metadata": {},
   "outputs": [],
   "source": [
    "Y=df.iloc[:,1].values"
   ]
  },
  {
   "cell_type": "code",
   "execution_count": 8,
   "id": "f1ad091b",
   "metadata": {},
   "outputs": [
    {
     "data": {
      "text/plain": [
       "array([20.        , 16.        , 19.79999924, 18.39999962, 17.10000038,\n",
       "       15.5       , 14.69999981, 17.10000038, 15.39999962, 16.20000076,\n",
       "       15.        , 17.20000076, 16.        , 17.        , 14.39999962])"
      ]
     },
     "execution_count": 8,
     "metadata": {},
     "output_type": "execute_result"
    }
   ],
   "source": [
    "X"
   ]
  },
  {
   "cell_type": "code",
   "execution_count": 9,
   "id": "ab48427f",
   "metadata": {},
   "outputs": [
    {
     "data": {
      "text/plain": [
       "array([88.59999847, 71.59999847, 93.30000305, 84.30000305, 80.59999847,\n",
       "       75.19999695, 69.69999695, 82.        , 69.40000153, 83.30000305,\n",
       "       79.59999847, 82.59999847, 80.59999847, 83.5       , 76.30000305])"
      ]
     },
     "execution_count": 9,
     "metadata": {},
     "output_type": "execute_result"
    }
   ],
   "source": [
    "Y"
   ]
  },
  {
   "cell_type": "code",
   "execution_count": 10,
   "id": "77001056",
   "metadata": {},
   "outputs": [],
   "source": [
    "from sklearn.model_selection import train_test_split"
   ]
  },
  {
   "cell_type": "code",
   "execution_count": 11,
   "id": "df01832c",
   "metadata": {},
   "outputs": [],
   "source": [
    "x_train,x_test,y_train,y_test=train_test_split(X,Y,test_size=0.2,random_state=42)"
   ]
  },
  {
   "cell_type": "code",
   "execution_count": 12,
   "id": "b7a36c0d",
   "metadata": {},
   "outputs": [],
   "source": [
    "LR=MeraLR()"
   ]
  },
  {
   "cell_type": "code",
   "execution_count": 13,
   "id": "6bf5c7d7",
   "metadata": {},
   "outputs": [
    {
     "name": "stdout",
     "output_type": "stream",
     "text": [
      "3.6167472795003386\n",
      "19.647569798033942\n"
     ]
    }
   ],
   "source": [
    "LR.fit(x_train,y_train) #value of m(slope) and b(intercept)"
   ]
  },
  {
   "cell_type": "code",
   "execution_count": 14,
   "id": "d65338ff",
   "metadata": {},
   "outputs": [
    {
     "name": "stdout",
     "output_type": "stream",
     "text": [
      "78.23887847466736\n",
      "81.8556257541677\n",
      "91.98251538804071\n"
     ]
    }
   ],
   "source": [
    "LR.predict(x_test) #predict"
   ]
  },
  {
   "cell_type": "code",
   "execution_count": 15,
   "id": "f03237c0",
   "metadata": {},
   "outputs": [
    {
     "data": {
      "text/plain": [
       "array([83.30000305, 82.59999847, 88.59999847])"
      ]
     },
     "execution_count": 15,
     "metadata": {},
     "output_type": "execute_result"
    }
   ],
   "source": [
    "y_test #actual"
   ]
  },
  {
   "cell_type": "code",
   "execution_count": 16,
   "id": "6d0efb29",
   "metadata": {},
   "outputs": [],
   "source": [
    "#lets try same data with scikit learn class\n",
    "from sklearn.linear_model import LinearRegression"
   ]
  },
  {
   "cell_type": "code",
   "execution_count": 17,
   "id": "3257a36d",
   "metadata": {},
   "outputs": [],
   "source": [
    "lr=LinearRegression()"
   ]
  },
  {
   "cell_type": "code",
   "execution_count": 18,
   "id": "3529e420",
   "metadata": {},
   "outputs": [],
   "source": [
    "X_train=x_train.reshape(-1,1)\n",
    "Y_train=y_train.reshape(-1,1)"
   ]
  },
  {
   "cell_type": "code",
   "execution_count": 19,
   "id": "d4127a99",
   "metadata": {},
   "outputs": [],
   "source": [
    "model1=lr.fit(X_train,Y_train)"
   ]
  },
  {
   "cell_type": "code",
   "execution_count": 20,
   "id": "155e21e3",
   "metadata": {},
   "outputs": [
    {
     "data": {
      "text/plain": [
       "array([[3.61674728]])"
      ]
     },
     "execution_count": 20,
     "metadata": {},
     "output_type": "execute_result"
    }
   ],
   "source": [
    "model1.coef_"
   ]
  },
  {
   "cell_type": "code",
   "execution_count": 21,
   "id": "30915046",
   "metadata": {},
   "outputs": [
    {
     "data": {
      "text/plain": [
       "array([19.6475698])"
      ]
     },
     "execution_count": 21,
     "metadata": {},
     "output_type": "execute_result"
    }
   ],
   "source": [
    "model1.intercept_"
   ]
  },
  {
   "cell_type": "code",
   "execution_count": 22,
   "id": "ca9f175f",
   "metadata": {},
   "outputs": [],
   "source": [
    "y_pred1=model1.predict(x_test.reshape(-1,1))"
   ]
  },
  {
   "cell_type": "code",
   "execution_count": 23,
   "id": "7f89aa22",
   "metadata": {},
   "outputs": [
    {
     "data": {
      "text/plain": [
       "array([[78.23887847],\n",
       "       [81.85562575],\n",
       "       [91.98251539]])"
      ]
     },
     "execution_count": 23,
     "metadata": {},
     "output_type": "execute_result"
    }
   ],
   "source": [
    "y_pred1"
   ]
  },
  {
   "cell_type": "code",
   "execution_count": 24,
   "id": "821727ad",
   "metadata": {},
   "outputs": [],
   "source": [
    "# both models m and b value found simmilar hence SKlearn Linear regression also following OLS(Ordinary Least Square)"
   ]
  }
 ],
 "metadata": {
  "kernelspec": {
   "display_name": "Python 3 (ipykernel)",
   "language": "python",
   "name": "python3"
  },
  "language_info": {
   "codemirror_mode": {
    "name": "ipython",
    "version": 3
   },
   "file_extension": ".py",
   "mimetype": "text/x-python",
   "name": "python",
   "nbconvert_exporter": "python",
   "pygments_lexer": "ipython3",
   "version": "3.9.7"
  }
 },
 "nbformat": 4,
 "nbformat_minor": 5
}
